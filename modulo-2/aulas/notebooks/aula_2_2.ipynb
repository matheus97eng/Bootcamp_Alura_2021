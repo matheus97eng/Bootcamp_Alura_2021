{
  "nbformat": 4,
  "nbformat_minor": 0,
  "metadata": {
    "colab": {
      "name": "aula_2-2.ipynb",
      "provenance": [],
      "authorship_tag": "ABX9TyNKrdNsQvnk0YBmSE2A87HB",
      "include_colab_link": true
    },
    "kernelspec": {
      "name": "python3",
      "display_name": "Python 3"
    },
    "language_info": {
      "name": "python"
    }
  },
  "cells": [
    {
      "cell_type": "markdown",
      "metadata": {
        "id": "view-in-github",
        "colab_type": "text"
      },
      "source": [
        "<a href=\"https://colab.research.google.com/github/matheus97eng/Bootcamp_Alura_2021/blob/main/modulo-2/aulas/notebooks/aula_2_2.ipynb\" target=\"_parent\"><img src=\"https://colab.research.google.com/assets/colab-badge.svg\" alt=\"Open In Colab\"/></a>"
      ]
    },
    {
      "cell_type": "markdown",
      "metadata": {
        "id": "I1ZZs8JC_tN1"
      },
      "source": [
        "# Obtendo dados de aulas anteriores\n",
        "\n",
        "Para melhor organização e reprodução, todos os dados das aulas são retirados [deste repositório](https://github.com/matheus97eng/Bootcamp_Alura_2021/tree/main/modulo-2/aulas/data). Lá você também encontra a descrição de cada um deles. Vamos transformá-los novamente em dataframes."
      ]
    },
    {
      "cell_type": "code",
      "metadata": {
        "colab": {
          "base_uri": "https://localhost:8080/",
          "height": 234
        },
        "id": "ttUF3gRw_MHv",
        "outputId": "c9325e79-4313-4c1d-bd3e-7096de9e3009"
      },
      "source": [
        "import pandas as pd\n",
        "\n",
        "dados_gastos = 'https://github.com/matheus97eng/Bootcamp_Alura_2021/raw/main/modulo-2/aulas/data/out_gastos_2020-Jul.csv'\n",
        "gastos_2020_Jul = pd.read_csv(dados_gastos, index_col='Unidade da Federação')\n",
        "gastos_2020_Jul.head()"
      ],
      "execution_count": null,
      "outputs": [
        {
          "output_type": "execute_result",
          "data": {
            "text/html": [
              "<div>\n",
              "<style scoped>\n",
              "    .dataframe tbody tr th:only-of-type {\n",
              "        vertical-align: middle;\n",
              "    }\n",
              "\n",
              "    .dataframe tbody tr th {\n",
              "        vertical-align: top;\n",
              "    }\n",
              "\n",
              "    .dataframe thead th {\n",
              "        text-align: right;\n",
              "    }\n",
              "</style>\n",
              "<table border=\"1\" class=\"dataframe\">\n",
              "  <thead>\n",
              "    <tr style=\"text-align: right;\">\n",
              "      <th></th>\n",
              "      <th>2020/Jul</th>\n",
              "    </tr>\n",
              "    <tr>\n",
              "      <th>Unidade da Federação</th>\n",
              "      <th></th>\n",
              "    </tr>\n",
              "  </thead>\n",
              "  <tbody>\n",
              "    <tr>\n",
              "      <th>35 São Paulo</th>\n",
              "      <td>2.827096e+08</td>\n",
              "    </tr>\n",
              "    <tr>\n",
              "      <th>31 Minas Gerais</th>\n",
              "      <td>1.204672e+08</td>\n",
              "    </tr>\n",
              "    <tr>\n",
              "      <th>41 Paraná</th>\n",
              "      <td>8.032085e+07</td>\n",
              "    </tr>\n",
              "    <tr>\n",
              "      <th>43 Rio Grande do Sul</th>\n",
              "      <td>7.892970e+07</td>\n",
              "    </tr>\n",
              "    <tr>\n",
              "      <th>33 Rio de Janeiro</th>\n",
              "      <td>7.154023e+07</td>\n",
              "    </tr>\n",
              "  </tbody>\n",
              "</table>\n",
              "</div>"
            ],
            "text/plain": [
              "                          2020/Jul\n",
              "Unidade da Federação              \n",
              "35 São Paulo          2.827096e+08\n",
              "31 Minas Gerais       1.204672e+08\n",
              "41 Paraná             8.032085e+07\n",
              "43 Rio Grande do Sul  7.892970e+07\n",
              "33 Rio de Janeiro     7.154023e+07"
            ]
          },
          "metadata": {
            "tags": []
          },
          "execution_count": 36
        }
      ]
    },
    {
      "cell_type": "code",
      "metadata": {
        "colab": {
          "base_uri": "https://localhost:8080/",
          "height": 234
        },
        "id": "6utx6UFjBvjO",
        "outputId": "d950d016-3985-4552-c3dd-1343bf1b82a5"
      },
      "source": [
        "dados = 'https://github.com/matheus97eng/Bootcamp_Alura_2021/raw/main/modulo-2/aulas/data/out_gastos_e_populacao_2020-Jul.csv'\n",
        "gastos_e_populacao_2020_Jul = pd.read_csv(dados, index_col='uf')\n",
        "gastos_e_populacao_2020_Jul.head()"
      ],
      "execution_count": null,
      "outputs": [
        {
          "output_type": "execute_result",
          "data": {
            "text/html": [
              "<div>\n",
              "<style scoped>\n",
              "    .dataframe tbody tr th:only-of-type {\n",
              "        vertical-align: middle;\n",
              "    }\n",
              "\n",
              "    .dataframe tbody tr th {\n",
              "        vertical-align: top;\n",
              "    }\n",
              "\n",
              "    .dataframe thead th {\n",
              "        text-align: right;\n",
              "    }\n",
              "</style>\n",
              "<table border=\"1\" class=\"dataframe\">\n",
              "  <thead>\n",
              "    <tr style=\"text-align: right;\">\n",
              "      <th></th>\n",
              "      <th>populacao</th>\n",
              "      <th>2020/Jul</th>\n",
              "    </tr>\n",
              "    <tr>\n",
              "      <th>uf</th>\n",
              "      <th></th>\n",
              "      <th></th>\n",
              "    </tr>\n",
              "  </thead>\n",
              "  <tbody>\n",
              "    <tr>\n",
              "      <th>São Paulo</th>\n",
              "      <td>46289333</td>\n",
              "      <td>2.827096e+08</td>\n",
              "    </tr>\n",
              "    <tr>\n",
              "      <th>Minas Gerais</th>\n",
              "      <td>21292666</td>\n",
              "      <td>1.204672e+08</td>\n",
              "    </tr>\n",
              "    <tr>\n",
              "      <th>Rio de Janeiro</th>\n",
              "      <td>17366189</td>\n",
              "      <td>7.154023e+07</td>\n",
              "    </tr>\n",
              "    <tr>\n",
              "      <th>Bahia</th>\n",
              "      <td>14930634</td>\n",
              "      <td>5.889810e+07</td>\n",
              "    </tr>\n",
              "    <tr>\n",
              "      <th>Paraná</th>\n",
              "      <td>11516840</td>\n",
              "      <td>8.032085e+07</td>\n",
              "    </tr>\n",
              "  </tbody>\n",
              "</table>\n",
              "</div>"
            ],
            "text/plain": [
              "                populacao      2020/Jul\n",
              "uf                                     \n",
              "São Paulo        46289333  2.827096e+08\n",
              "Minas Gerais     21292666  1.204672e+08\n",
              "Rio de Janeiro   17366189  7.154023e+07\n",
              "Bahia            14930634  5.889810e+07\n",
              "Paraná           11516840  8.032085e+07"
            ]
          },
          "metadata": {
            "tags": []
          },
          "execution_count": 37
        }
      ]
    },
    {
      "cell_type": "code",
      "metadata": {
        "colab": {
          "base_uri": "https://localhost:8080/",
          "height": 400
        },
        "id": "pUjropb1CQBk",
        "outputId": "5597c603-6af9-4fa4-af6a-6e0105b09203"
      },
      "source": [
        "dados = 'https://github.com/matheus97eng/Bootcamp_Alura_2021/raw/main/modulo-2/aulas/data/out_ordenado_por_total%20(1).csv'\n",
        "ordenado_por_total = pd.read_csv(dados, index_col='Unidade da Federação')\n",
        "ordenado_por_total.head()"
      ],
      "execution_count": null,
      "outputs": [
        {
          "output_type": "execute_result",
          "data": {
            "text/html": [
              "<div>\n",
              "<style scoped>\n",
              "    .dataframe tbody tr th:only-of-type {\n",
              "        vertical-align: middle;\n",
              "    }\n",
              "\n",
              "    .dataframe tbody tr th {\n",
              "        vertical-align: top;\n",
              "    }\n",
              "\n",
              "    .dataframe thead th {\n",
              "        text-align: right;\n",
              "    }\n",
              "</style>\n",
              "<table border=\"1\" class=\"dataframe\">\n",
              "  <thead>\n",
              "    <tr style=\"text-align: right;\">\n",
              "      <th></th>\n",
              "      <th>2008/Fev</th>\n",
              "      <th>2008/Mar</th>\n",
              "      <th>2008/Abr</th>\n",
              "      <th>2008/Mai</th>\n",
              "      <th>2008/Jun</th>\n",
              "      <th>2008/Jul</th>\n",
              "      <th>2008/Ago</th>\n",
              "      <th>2008/Set</th>\n",
              "      <th>2008/Out</th>\n",
              "      <th>2008/Nov</th>\n",
              "      <th>2008/Dez</th>\n",
              "      <th>2009/Jan</th>\n",
              "      <th>2009/Fev</th>\n",
              "      <th>2009/Mar</th>\n",
              "      <th>2009/Abr</th>\n",
              "      <th>2009/Mai</th>\n",
              "      <th>2009/Jun</th>\n",
              "      <th>2009/Jul</th>\n",
              "      <th>2009/Ago</th>\n",
              "      <th>2009/Set</th>\n",
              "      <th>2009/Out</th>\n",
              "      <th>2009/Nov</th>\n",
              "      <th>2009/Dez</th>\n",
              "      <th>2010/Jan</th>\n",
              "      <th>2010/Fev</th>\n",
              "      <th>2010/Mar</th>\n",
              "      <th>2010/Abr</th>\n",
              "      <th>2010/Mai</th>\n",
              "      <th>2010/Jun</th>\n",
              "      <th>2010/Jul</th>\n",
              "      <th>2010/Ago</th>\n",
              "      <th>2010/Set</th>\n",
              "      <th>2010/Out</th>\n",
              "      <th>2010/Nov</th>\n",
              "      <th>2010/Dez</th>\n",
              "      <th>2011/Jan</th>\n",
              "      <th>2011/Fev</th>\n",
              "      <th>2011/Mar</th>\n",
              "      <th>2011/Abr</th>\n",
              "      <th>2011/Mai</th>\n",
              "      <th>...</th>\n",
              "      <th>2017/Abr</th>\n",
              "      <th>2017/Mai</th>\n",
              "      <th>2017/Jun</th>\n",
              "      <th>2017/Jul</th>\n",
              "      <th>2017/Ago</th>\n",
              "      <th>2017/Set</th>\n",
              "      <th>2017/Out</th>\n",
              "      <th>2017/Nov</th>\n",
              "      <th>2017/Dez</th>\n",
              "      <th>2018/Jan</th>\n",
              "      <th>2018/Fev</th>\n",
              "      <th>2018/Mar</th>\n",
              "      <th>2018/Abr</th>\n",
              "      <th>2018/Mai</th>\n",
              "      <th>2018/Jun</th>\n",
              "      <th>2018/Jul</th>\n",
              "      <th>2018/Ago</th>\n",
              "      <th>2018/Set</th>\n",
              "      <th>2018/Out</th>\n",
              "      <th>2018/Nov</th>\n",
              "      <th>2018/Dez</th>\n",
              "      <th>2019/Jan</th>\n",
              "      <th>2019/Fev</th>\n",
              "      <th>2019/Mar</th>\n",
              "      <th>2019/Abr</th>\n",
              "      <th>2019/Mai</th>\n",
              "      <th>2019/Jun</th>\n",
              "      <th>2019/Jul</th>\n",
              "      <th>2019/Ago</th>\n",
              "      <th>2019/Set</th>\n",
              "      <th>2019/Out</th>\n",
              "      <th>2019/Nov</th>\n",
              "      <th>2019/Dez</th>\n",
              "      <th>2020/Jan</th>\n",
              "      <th>2020/Fev</th>\n",
              "      <th>2020/Mar</th>\n",
              "      <th>2020/Abr</th>\n",
              "      <th>2020/Mai</th>\n",
              "      <th>2020/Jun</th>\n",
              "      <th>2020/Jul</th>\n",
              "    </tr>\n",
              "    <tr>\n",
              "      <th>Unidade da Federação</th>\n",
              "      <th></th>\n",
              "      <th></th>\n",
              "      <th></th>\n",
              "      <th></th>\n",
              "      <th></th>\n",
              "      <th></th>\n",
              "      <th></th>\n",
              "      <th></th>\n",
              "      <th></th>\n",
              "      <th></th>\n",
              "      <th></th>\n",
              "      <th></th>\n",
              "      <th></th>\n",
              "      <th></th>\n",
              "      <th></th>\n",
              "      <th></th>\n",
              "      <th></th>\n",
              "      <th></th>\n",
              "      <th></th>\n",
              "      <th></th>\n",
              "      <th></th>\n",
              "      <th></th>\n",
              "      <th></th>\n",
              "      <th></th>\n",
              "      <th></th>\n",
              "      <th></th>\n",
              "      <th></th>\n",
              "      <th></th>\n",
              "      <th></th>\n",
              "      <th></th>\n",
              "      <th></th>\n",
              "      <th></th>\n",
              "      <th></th>\n",
              "      <th></th>\n",
              "      <th></th>\n",
              "      <th></th>\n",
              "      <th></th>\n",
              "      <th></th>\n",
              "      <th></th>\n",
              "      <th></th>\n",
              "      <th></th>\n",
              "      <th></th>\n",
              "      <th></th>\n",
              "      <th></th>\n",
              "      <th></th>\n",
              "      <th></th>\n",
              "      <th></th>\n",
              "      <th></th>\n",
              "      <th></th>\n",
              "      <th></th>\n",
              "      <th></th>\n",
              "      <th></th>\n",
              "      <th></th>\n",
              "      <th></th>\n",
              "      <th></th>\n",
              "      <th></th>\n",
              "      <th></th>\n",
              "      <th></th>\n",
              "      <th></th>\n",
              "      <th></th>\n",
              "      <th></th>\n",
              "      <th></th>\n",
              "      <th></th>\n",
              "      <th></th>\n",
              "      <th></th>\n",
              "      <th></th>\n",
              "      <th></th>\n",
              "      <th></th>\n",
              "      <th></th>\n",
              "      <th></th>\n",
              "      <th></th>\n",
              "      <th></th>\n",
              "      <th></th>\n",
              "      <th></th>\n",
              "      <th></th>\n",
              "      <th></th>\n",
              "      <th></th>\n",
              "      <th></th>\n",
              "      <th></th>\n",
              "      <th></th>\n",
              "      <th></th>\n",
              "    </tr>\n",
              "  </thead>\n",
              "  <tbody>\n",
              "    <tr>\n",
              "      <th>35 São Paulo</th>\n",
              "      <td>1.728349e+08</td>\n",
              "      <td>1.704818e+08</td>\n",
              "      <td>1.702783e+08</td>\n",
              "      <td>1.724022e+08</td>\n",
              "      <td>1.754166e+08</td>\n",
              "      <td>1.795250e+08</td>\n",
              "      <td>1.798981e+08</td>\n",
              "      <td>1.800822e+08</td>\n",
              "      <td>1.916852e+08</td>\n",
              "      <td>1.905397e+08</td>\n",
              "      <td>1.770864e+08</td>\n",
              "      <td>1.923216e+08</td>\n",
              "      <td>1.785964e+08</td>\n",
              "      <td>2.169516e+08</td>\n",
              "      <td>2.150530e+08</td>\n",
              "      <td>2.128902e+08</td>\n",
              "      <td>2.126709e+08</td>\n",
              "      <td>2.140412e+08</td>\n",
              "      <td>2.152125e+08</td>\n",
              "      <td>2.141354e+08</td>\n",
              "      <td>2.160566e+08</td>\n",
              "      <td>2.089739e+08</td>\n",
              "      <td>1.921271e+08</td>\n",
              "      <td>2.134679e+08</td>\n",
              "      <td>1.957848e+08</td>\n",
              "      <td>2.393239e+08</td>\n",
              "      <td>2.211730e+08</td>\n",
              "      <td>2.317775e+08</td>\n",
              "      <td>2.239338e+08</td>\n",
              "      <td>2.240679e+08</td>\n",
              "      <td>2.480101e+08</td>\n",
              "      <td>2.240530e+08</td>\n",
              "      <td>2.389355e+08</td>\n",
              "      <td>2.254841e+08</td>\n",
              "      <td>2.106115e+08</td>\n",
              "      <td>2.290870e+08</td>\n",
              "      <td>2.215980e+08</td>\n",
              "      <td>2.413999e+08</td>\n",
              "      <td>2.298212e+08</td>\n",
              "      <td>2.507936e+08</td>\n",
              "      <td>...</td>\n",
              "      <td>2.634718e+08</td>\n",
              "      <td>2.921134e+08</td>\n",
              "      <td>2.743011e+08</td>\n",
              "      <td>2.835346e+08</td>\n",
              "      <td>3.005937e+08</td>\n",
              "      <td>2.672972e+08</td>\n",
              "      <td>2.871148e+08</td>\n",
              "      <td>2.671132e+08</td>\n",
              "      <td>2.594517e+08</td>\n",
              "      <td>2.794976e+08</td>\n",
              "      <td>2.540046e+08</td>\n",
              "      <td>2.852706e+08</td>\n",
              "      <td>2.861920e+08</td>\n",
              "      <td>2.914409e+08</td>\n",
              "      <td>2.789260e+08</td>\n",
              "      <td>2.858519e+08</td>\n",
              "      <td>2.954193e+08</td>\n",
              "      <td>2.775762e+08</td>\n",
              "      <td>3.014549e+08</td>\n",
              "      <td>2.781143e+08</td>\n",
              "      <td>2.662398e+08</td>\n",
              "      <td>2.910814e+08</td>\n",
              "      <td>2.676625e+08</td>\n",
              "      <td>2.855763e+08</td>\n",
              "      <td>2.925848e+08</td>\n",
              "      <td>3.089256e+08</td>\n",
              "      <td>2.814051e+08</td>\n",
              "      <td>3.066340e+08</td>\n",
              "      <td>3.023673e+08</td>\n",
              "      <td>2.936857e+08</td>\n",
              "      <td>3.033825e+08</td>\n",
              "      <td>2.823918e+08</td>\n",
              "      <td>2.726977e+08</td>\n",
              "      <td>3.019912e+08</td>\n",
              "      <td>2.713568e+08</td>\n",
              "      <td>2.766063e+08</td>\n",
              "      <td>2.516964e+08</td>\n",
              "      <td>3.028577e+08</td>\n",
              "      <td>2.990609e+08</td>\n",
              "      <td>2.827096e+08</td>\n",
              "    </tr>\n",
              "    <tr>\n",
              "      <th>31 Minas Gerais</th>\n",
              "      <td>7.030109e+07</td>\n",
              "      <td>7.911901e+07</td>\n",
              "      <td>7.904632e+07</td>\n",
              "      <td>7.926807e+07</td>\n",
              "      <td>7.960865e+07</td>\n",
              "      <td>8.220022e+07</td>\n",
              "      <td>8.037412e+07</td>\n",
              "      <td>8.240015e+07</td>\n",
              "      <td>8.861348e+07</td>\n",
              "      <td>8.448700e+07</td>\n",
              "      <td>8.892863e+07</td>\n",
              "      <td>9.901816e+07</td>\n",
              "      <td>8.367512e+07</td>\n",
              "      <td>1.002407e+08</td>\n",
              "      <td>9.183133e+07</td>\n",
              "      <td>9.728970e+07</td>\n",
              "      <td>9.572340e+07</td>\n",
              "      <td>1.000500e+08</td>\n",
              "      <td>9.896806e+07</td>\n",
              "      <td>9.820212e+07</td>\n",
              "      <td>9.696239e+07</td>\n",
              "      <td>9.476764e+07</td>\n",
              "      <td>9.241277e+07</td>\n",
              "      <td>9.580656e+07</td>\n",
              "      <td>9.076489e+07</td>\n",
              "      <td>1.073899e+08</td>\n",
              "      <td>1.008298e+08</td>\n",
              "      <td>1.054856e+08</td>\n",
              "      <td>9.966612e+07</td>\n",
              "      <td>1.033570e+08</td>\n",
              "      <td>1.078443e+08</td>\n",
              "      <td>1.043411e+08</td>\n",
              "      <td>1.005254e+08</td>\n",
              "      <td>1.019436e+08</td>\n",
              "      <td>9.953895e+07</td>\n",
              "      <td>1.077389e+08</td>\n",
              "      <td>1.031408e+08</td>\n",
              "      <td>1.110660e+08</td>\n",
              "      <td>1.060943e+08</td>\n",
              "      <td>1.154872e+08</td>\n",
              "      <td>...</td>\n",
              "      <td>1.367151e+08</td>\n",
              "      <td>1.534121e+08</td>\n",
              "      <td>1.442914e+08</td>\n",
              "      <td>1.475335e+08</td>\n",
              "      <td>1.560556e+08</td>\n",
              "      <td>1.422851e+08</td>\n",
              "      <td>1.483061e+08</td>\n",
              "      <td>1.423239e+08</td>\n",
              "      <td>1.383412e+08</td>\n",
              "      <td>1.465016e+08</td>\n",
              "      <td>1.307021e+08</td>\n",
              "      <td>1.514962e+08</td>\n",
              "      <td>1.506876e+08</td>\n",
              "      <td>1.535893e+08</td>\n",
              "      <td>1.502518e+08</td>\n",
              "      <td>1.566340e+08</td>\n",
              "      <td>1.604200e+08</td>\n",
              "      <td>1.459410e+08</td>\n",
              "      <td>1.572476e+08</td>\n",
              "      <td>1.481728e+08</td>\n",
              "      <td>1.453872e+08</td>\n",
              "      <td>1.531773e+08</td>\n",
              "      <td>1.426692e+08</td>\n",
              "      <td>1.519436e+08</td>\n",
              "      <td>1.579226e+08</td>\n",
              "      <td>1.635915e+08</td>\n",
              "      <td>1.541148e+08</td>\n",
              "      <td>1.667357e+08</td>\n",
              "      <td>1.617078e+08</td>\n",
              "      <td>1.574197e+08</td>\n",
              "      <td>1.661338e+08</td>\n",
              "      <td>1.521067e+08</td>\n",
              "      <td>1.523986e+08</td>\n",
              "      <td>1.580979e+08</td>\n",
              "      <td>1.413232e+08</td>\n",
              "      <td>1.470786e+08</td>\n",
              "      <td>1.263306e+08</td>\n",
              "      <td>1.368673e+08</td>\n",
              "      <td>1.359776e+08</td>\n",
              "      <td>1.204672e+08</td>\n",
              "    </tr>\n",
              "    <tr>\n",
              "      <th>41 Paraná</th>\n",
              "      <td>4.885505e+07</td>\n",
              "      <td>5.561179e+07</td>\n",
              "      <td>5.611514e+07</td>\n",
              "      <td>5.557483e+07</td>\n",
              "      <td>5.609475e+07</td>\n",
              "      <td>5.980240e+07</td>\n",
              "      <td>5.669900e+07</td>\n",
              "      <td>5.809199e+07</td>\n",
              "      <td>6.136594e+07</td>\n",
              "      <td>5.966721e+07</td>\n",
              "      <td>5.781620e+07</td>\n",
              "      <td>6.038159e+07</td>\n",
              "      <td>5.723910e+07</td>\n",
              "      <td>6.907049e+07</td>\n",
              "      <td>6.405468e+07</td>\n",
              "      <td>6.868554e+07</td>\n",
              "      <td>6.793123e+07</td>\n",
              "      <td>7.095876e+07</td>\n",
              "      <td>6.922578e+07</td>\n",
              "      <td>6.784997e+07</td>\n",
              "      <td>6.855821e+07</td>\n",
              "      <td>6.715850e+07</td>\n",
              "      <td>6.309427e+07</td>\n",
              "      <td>6.690264e+07</td>\n",
              "      <td>6.450113e+07</td>\n",
              "      <td>7.713887e+07</td>\n",
              "      <td>7.075540e+07</td>\n",
              "      <td>7.345676e+07</td>\n",
              "      <td>7.183902e+07</td>\n",
              "      <td>7.301383e+07</td>\n",
              "      <td>7.615101e+07</td>\n",
              "      <td>7.424096e+07</td>\n",
              "      <td>7.304239e+07</td>\n",
              "      <td>7.636475e+07</td>\n",
              "      <td>7.051764e+07</td>\n",
              "      <td>7.471278e+07</td>\n",
              "      <td>7.131474e+07</td>\n",
              "      <td>7.691467e+07</td>\n",
              "      <td>7.423294e+07</td>\n",
              "      <td>8.170902e+07</td>\n",
              "      <td>...</td>\n",
              "      <td>1.060277e+08</td>\n",
              "      <td>1.205353e+08</td>\n",
              "      <td>1.117253e+08</td>\n",
              "      <td>1.185902e+08</td>\n",
              "      <td>1.221228e+08</td>\n",
              "      <td>1.106561e+08</td>\n",
              "      <td>1.175677e+08</td>\n",
              "      <td>1.124575e+08</td>\n",
              "      <td>1.055581e+08</td>\n",
              "      <td>1.161332e+08</td>\n",
              "      <td>1.070760e+08</td>\n",
              "      <td>1.223314e+08</td>\n",
              "      <td>1.247313e+08</td>\n",
              "      <td>1.270739e+08</td>\n",
              "      <td>1.226169e+08</td>\n",
              "      <td>1.279919e+08</td>\n",
              "      <td>1.312572e+08</td>\n",
              "      <td>1.206474e+08</td>\n",
              "      <td>1.295302e+08</td>\n",
              "      <td>1.218107e+08</td>\n",
              "      <td>1.129846e+08</td>\n",
              "      <td>1.241592e+08</td>\n",
              "      <td>1.177155e+08</td>\n",
              "      <td>1.239074e+08</td>\n",
              "      <td>1.274470e+08</td>\n",
              "      <td>1.325766e+08</td>\n",
              "      <td>1.248583e+08</td>\n",
              "      <td>1.346213e+08</td>\n",
              "      <td>1.271741e+08</td>\n",
              "      <td>1.261727e+08</td>\n",
              "      <td>1.338480e+08</td>\n",
              "      <td>1.262094e+08</td>\n",
              "      <td>1.135453e+08</td>\n",
              "      <td>1.222688e+08</td>\n",
              "      <td>1.160616e+08</td>\n",
              "      <td>1.144770e+08</td>\n",
              "      <td>9.672711e+07</td>\n",
              "      <td>1.061037e+08</td>\n",
              "      <td>9.290146e+07</td>\n",
              "      <td>8.032085e+07</td>\n",
              "    </tr>\n",
              "    <tr>\n",
              "      <th>43 Rio Grande do Sul</th>\n",
              "      <td>4.589770e+07</td>\n",
              "      <td>5.292870e+07</td>\n",
              "      <td>5.197242e+07</td>\n",
              "      <td>5.167935e+07</td>\n",
              "      <td>5.375967e+07</td>\n",
              "      <td>5.639165e+07</td>\n",
              "      <td>5.623376e+07</td>\n",
              "      <td>5.791017e+07</td>\n",
              "      <td>5.959212e+07</td>\n",
              "      <td>5.756574e+07</td>\n",
              "      <td>5.569692e+07</td>\n",
              "      <td>6.152238e+07</td>\n",
              "      <td>5.210164e+07</td>\n",
              "      <td>6.511197e+07</td>\n",
              "      <td>6.159083e+07</td>\n",
              "      <td>6.440229e+07</td>\n",
              "      <td>6.309064e+07</td>\n",
              "      <td>6.913700e+07</td>\n",
              "      <td>6.606263e+07</td>\n",
              "      <td>6.522201e+07</td>\n",
              "      <td>6.756941e+07</td>\n",
              "      <td>6.418912e+07</td>\n",
              "      <td>6.224428e+07</td>\n",
              "      <td>6.548839e+07</td>\n",
              "      <td>5.696453e+07</td>\n",
              "      <td>6.993358e+07</td>\n",
              "      <td>6.648684e+07</td>\n",
              "      <td>6.910837e+07</td>\n",
              "      <td>6.757077e+07</td>\n",
              "      <td>7.007475e+07</td>\n",
              "      <td>7.088401e+07</td>\n",
              "      <td>6.507979e+07</td>\n",
              "      <td>6.655602e+07</td>\n",
              "      <td>6.609703e+07</td>\n",
              "      <td>6.173710e+07</td>\n",
              "      <td>6.691891e+07</td>\n",
              "      <td>6.137076e+07</td>\n",
              "      <td>6.900497e+07</td>\n",
              "      <td>6.622507e+07</td>\n",
              "      <td>7.217267e+07</td>\n",
              "      <td>...</td>\n",
              "      <td>8.318838e+07</td>\n",
              "      <td>9.514995e+07</td>\n",
              "      <td>9.317241e+07</td>\n",
              "      <td>9.441526e+07</td>\n",
              "      <td>9.422816e+07</td>\n",
              "      <td>8.642477e+07</td>\n",
              "      <td>9.159818e+07</td>\n",
              "      <td>8.579370e+07</td>\n",
              "      <td>8.273757e+07</td>\n",
              "      <td>9.182567e+07</td>\n",
              "      <td>7.758201e+07</td>\n",
              "      <td>9.107833e+07</td>\n",
              "      <td>9.192677e+07</td>\n",
              "      <td>9.167813e+07</td>\n",
              "      <td>9.098989e+07</td>\n",
              "      <td>9.486101e+07</td>\n",
              "      <td>9.679964e+07</td>\n",
              "      <td>8.734427e+07</td>\n",
              "      <td>9.737110e+07</td>\n",
              "      <td>9.019077e+07</td>\n",
              "      <td>8.174888e+07</td>\n",
              "      <td>9.246710e+07</td>\n",
              "      <td>8.530100e+07</td>\n",
              "      <td>9.162434e+07</td>\n",
              "      <td>9.278795e+07</td>\n",
              "      <td>9.911764e+07</td>\n",
              "      <td>9.584051e+07</td>\n",
              "      <td>1.030282e+08</td>\n",
              "      <td>9.854611e+07</td>\n",
              "      <td>9.436919e+07</td>\n",
              "      <td>9.691390e+07</td>\n",
              "      <td>9.097181e+07</td>\n",
              "      <td>8.872087e+07</td>\n",
              "      <td>9.747436e+07</td>\n",
              "      <td>8.545165e+07</td>\n",
              "      <td>8.465140e+07</td>\n",
              "      <td>7.629460e+07</td>\n",
              "      <td>8.607611e+07</td>\n",
              "      <td>8.901948e+07</td>\n",
              "      <td>7.892970e+07</td>\n",
              "    </tr>\n",
              "    <tr>\n",
              "      <th>33 Rio de Janeiro</th>\n",
              "      <td>4.412259e+07</td>\n",
              "      <td>4.289267e+07</td>\n",
              "      <td>4.529596e+07</td>\n",
              "      <td>4.395135e+07</td>\n",
              "      <td>4.410293e+07</td>\n",
              "      <td>4.434852e+07</td>\n",
              "      <td>4.248794e+07</td>\n",
              "      <td>4.306646e+07</td>\n",
              "      <td>4.455331e+07</td>\n",
              "      <td>4.135151e+07</td>\n",
              "      <td>4.300979e+07</td>\n",
              "      <td>6.087040e+07</td>\n",
              "      <td>4.065784e+07</td>\n",
              "      <td>5.274937e+07</td>\n",
              "      <td>4.889560e+07</td>\n",
              "      <td>5.116713e+07</td>\n",
              "      <td>5.723141e+07</td>\n",
              "      <td>5.348566e+07</td>\n",
              "      <td>5.122066e+07</td>\n",
              "      <td>4.848129e+07</td>\n",
              "      <td>4.866800e+07</td>\n",
              "      <td>4.968521e+07</td>\n",
              "      <td>4.440786e+07</td>\n",
              "      <td>5.599371e+07</td>\n",
              "      <td>4.482045e+07</td>\n",
              "      <td>5.445799e+07</td>\n",
              "      <td>7.811810e+07</td>\n",
              "      <td>5.600780e+07</td>\n",
              "      <td>5.143583e+07</td>\n",
              "      <td>5.386128e+07</td>\n",
              "      <td>5.786729e+07</td>\n",
              "      <td>5.373602e+07</td>\n",
              "      <td>5.237116e+07</td>\n",
              "      <td>5.022062e+07</td>\n",
              "      <td>5.089133e+07</td>\n",
              "      <td>7.400562e+07</td>\n",
              "      <td>6.110944e+07</td>\n",
              "      <td>5.532100e+07</td>\n",
              "      <td>5.580637e+07</td>\n",
              "      <td>5.907137e+07</td>\n",
              "      <td>...</td>\n",
              "      <td>6.452451e+07</td>\n",
              "      <td>7.431706e+07</td>\n",
              "      <td>6.985403e+07</td>\n",
              "      <td>7.315485e+07</td>\n",
              "      <td>7.454192e+07</td>\n",
              "      <td>6.872945e+07</td>\n",
              "      <td>7.308490e+07</td>\n",
              "      <td>6.926088e+07</td>\n",
              "      <td>6.731662e+07</td>\n",
              "      <td>7.233988e+07</td>\n",
              "      <td>6.501705e+07</td>\n",
              "      <td>7.438664e+07</td>\n",
              "      <td>7.451810e+07</td>\n",
              "      <td>7.925978e+07</td>\n",
              "      <td>7.590771e+07</td>\n",
              "      <td>7.748669e+07</td>\n",
              "      <td>7.878407e+07</td>\n",
              "      <td>7.283765e+07</td>\n",
              "      <td>7.913817e+07</td>\n",
              "      <td>7.394690e+07</td>\n",
              "      <td>7.068819e+07</td>\n",
              "      <td>7.946838e+07</td>\n",
              "      <td>7.379501e+07</td>\n",
              "      <td>7.491940e+07</td>\n",
              "      <td>7.666697e+07</td>\n",
              "      <td>8.244073e+07</td>\n",
              "      <td>7.819065e+07</td>\n",
              "      <td>8.798449e+07</td>\n",
              "      <td>8.331160e+07</td>\n",
              "      <td>8.114669e+07</td>\n",
              "      <td>8.224773e+07</td>\n",
              "      <td>7.462048e+07</td>\n",
              "      <td>7.489586e+07</td>\n",
              "      <td>7.970566e+07</td>\n",
              "      <td>7.241281e+07</td>\n",
              "      <td>7.359450e+07</td>\n",
              "      <td>6.816077e+07</td>\n",
              "      <td>8.628103e+07</td>\n",
              "      <td>7.760493e+07</td>\n",
              "      <td>7.154023e+07</td>\n",
              "    </tr>\n",
              "  </tbody>\n",
              "</table>\n",
              "<p>5 rows × 150 columns</p>\n",
              "</div>"
            ],
            "text/plain": [
              "                          2008/Fev      2008/Mar  ...      2020/Jun      2020/Jul\n",
              "Unidade da Federação                              ...                            \n",
              "35 São Paulo          1.728349e+08  1.704818e+08  ...  2.990609e+08  2.827096e+08\n",
              "31 Minas Gerais       7.030109e+07  7.911901e+07  ...  1.359776e+08  1.204672e+08\n",
              "41 Paraná             4.885505e+07  5.561179e+07  ...  9.290146e+07  8.032085e+07\n",
              "43 Rio Grande do Sul  4.589770e+07  5.292870e+07  ...  8.901948e+07  7.892970e+07\n",
              "33 Rio de Janeiro     4.412259e+07  4.289267e+07  ...  7.760493e+07  7.154023e+07\n",
              "\n",
              "[5 rows x 150 columns]"
            ]
          },
          "metadata": {
            "tags": []
          },
          "execution_count": 70
        }
      ]
    },
    {
      "cell_type": "markdown",
      "metadata": {
        "id": "cmL7l9ojfOCD"
      },
      "source": [
        "**vamos modificar esse dataframe**, para igualar os índices aos outros dataframes."
      ]
    },
    {
      "cell_type": "code",
      "metadata": {
        "id": "UcIAQtZRfYBs"
      },
      "source": [
        "ordenado_por_total.index = ordenado_por_total.index.str[3:]   # estamos igualando os índices"
      ],
      "execution_count": null,
      "outputs": []
    },
    {
      "cell_type": "code",
      "metadata": {
        "colab": {
          "base_uri": "https://localhost:8080/",
          "height": 234
        },
        "id": "GCwwYV1nCjvt",
        "outputId": "38bbacb1-3286-4bcb-ef57-72e219cfc3ec"
      },
      "source": [
        "dados = 'https://github.com/matheus97eng/Bootcamp_Alura_2021/raw/main/modulo-2/aulas/data/out_populacao.csv'\n",
        "populacao = pd.read_csv(dados, index_col='uf')\n",
        "populacao.head()"
      ],
      "execution_count": null,
      "outputs": [
        {
          "output_type": "execute_result",
          "data": {
            "text/html": [
              "<div>\n",
              "<style scoped>\n",
              "    .dataframe tbody tr th:only-of-type {\n",
              "        vertical-align: middle;\n",
              "    }\n",
              "\n",
              "    .dataframe tbody tr th {\n",
              "        vertical-align: top;\n",
              "    }\n",
              "\n",
              "    .dataframe thead th {\n",
              "        text-align: right;\n",
              "    }\n",
              "</style>\n",
              "<table border=\"1\" class=\"dataframe\">\n",
              "  <thead>\n",
              "    <tr style=\"text-align: right;\">\n",
              "      <th></th>\n",
              "      <th>populacao</th>\n",
              "    </tr>\n",
              "    <tr>\n",
              "      <th>uf</th>\n",
              "      <th></th>\n",
              "    </tr>\n",
              "  </thead>\n",
              "  <tbody>\n",
              "    <tr>\n",
              "      <th>São Paulo</th>\n",
              "      <td>46289333</td>\n",
              "    </tr>\n",
              "    <tr>\n",
              "      <th>Minas Gerais</th>\n",
              "      <td>21292666</td>\n",
              "    </tr>\n",
              "    <tr>\n",
              "      <th>Rio de Janeiro</th>\n",
              "      <td>17366189</td>\n",
              "    </tr>\n",
              "    <tr>\n",
              "      <th>Bahia</th>\n",
              "      <td>14930634</td>\n",
              "    </tr>\n",
              "    <tr>\n",
              "      <th>Paraná</th>\n",
              "      <td>11516840</td>\n",
              "    </tr>\n",
              "  </tbody>\n",
              "</table>\n",
              "</div>"
            ],
            "text/plain": [
              "                populacao\n",
              "uf                       \n",
              "São Paulo        46289333\n",
              "Minas Gerais     21292666\n",
              "Rio de Janeiro   17366189\n",
              "Bahia            14930634\n",
              "Paraná           11516840"
            ]
          },
          "metadata": {
            "tags": []
          },
          "execution_count": 40
        }
      ]
    },
    {
      "cell_type": "markdown",
      "metadata": {
        "id": "7H0SYCiiDIf0"
      },
      "source": [
        "# Aula 2\n",
        "Nesta aula nos preocuparemos em visualizar possíveis relações entre gastos e população para os estados. De início, poderíamos tentar fazer um gráfico com linhas separadas para gastos e população."
      ]
    },
    {
      "cell_type": "code",
      "metadata": {
        "colab": {
          "base_uri": "https://localhost:8080/",
          "height": 417
        },
        "id": "4gX364lYDqCh",
        "outputId": "09df241a-a43c-4a8d-c53b-9d7414b9e6e2"
      },
      "source": [
        "gastos_e_populacao_2020_Jul.plot(figsize=(10,6))"
      ],
      "execution_count": null,
      "outputs": [
        {
          "output_type": "execute_result",
          "data": {
            "text/plain": [
              "<matplotlib.axes._subplots.AxesSubplot at 0x7f671bb620d0>"
            ]
          },
          "metadata": {
            "tags": []
          },
          "execution_count": 41
        },
        {
          "output_type": "display_data",
          "data": {
            "image/png": "[encoded data removed]",
            "text/plain": [
              "<Figure size 720x432 with 1 Axes>"
            ]
          },
          "metadata": {
            "tags": [],
            "needs_background": "light"
          }
        }
      ]
    },
    {
      "cell_type": "markdown",
      "metadata": {
        "id": "Az8xZtwGEIp9"
      },
      "source": [
        "Este gráfico é ruim para visualização, não só por causa dos valores no eixo x, mas porque estamos comparando duas medidas diferentes em um mesmo eixo: os gastos e a população. \n",
        "\n",
        "O que seria uma tentativa de solução é plotar no mesmo gráfico escalas diferentes no eixo y, uma para a população e outra para os gastos. Mas mesmo assim, perderíamos a ideia de proporção entre as duas variáveis.\n",
        "\n",
        "O gráfico acima também é ruim para identicar proporções. Compare por exemplo São Paulo com Rio Grande do Sul. A diferença em proporção entre os gastos e população parece ser bem maior em São Paulo. Se fizermos a proporção correta usando Python entre os 2 estados, poderemos verificar que as proporções são bem parecidas. A proporção de São Paulo chega até a ser menor!"
      ]
    },
    {
      "cell_type": "code",
      "metadata": {
        "colab": {
          "base_uri": "https://localhost:8080/"
        },
        "id": "7OA0wkScGhHc",
        "outputId": "d79ad7f2-7938-44a1-9611-f35a0f90085d"
      },
      "source": [
        "proporcao_SP = gastos_e_populacao_2020_Jul['2020/Jul'].loc['São Paulo'] / gastos_e_populacao_2020_Jul['populacao'].loc['São Paulo'] \n",
        "proporcao_RS = gastos_e_populacao_2020_Jul['2020/Jul'].loc['Rio Grande do Sul'] / gastos_e_populacao_2020_Jul['populacao'].loc['Rio Grande do Sul'] \n",
        "\n",
        "print('proporção de gastos por habitante:\\n')\n",
        "print(f'São Paulo = {proporcao_SP}')\n",
        "print(f'Rio Grande do Sul = {proporcao_RS}')"
      ],
      "execution_count": null,
      "outputs": [
        {
          "output_type": "stream",
          "text": [
            "proporção de gastos por habitante:\n",
            "\n",
            "São Paulo = 6.107445322446102\n",
            "Rio Grande do Sul = 6.909733902899009\n"
          ],
          "name": "stdout"
        }
      ]
    },
    {
      "cell_type": "markdown",
      "metadata": {
        "id": "JOjhckQJL67j"
      },
      "source": [
        "Vamos agora adicionar uma nova coluna ao dataframe, com as informações das proporções."
      ]
    },
    {
      "cell_type": "code",
      "metadata": {
        "colab": {
          "base_uri": "https://localhost:8080/",
          "height": 234
        },
        "id": "lUVxoXcuMEyl",
        "outputId": "615a8f6c-a7b9-4936-e974-b065df8b4591"
      },
      "source": [
        "gastos_e_populacao_2020_Jul['gastos por habitante'] = gastos_e_populacao_2020_Jul['2020/Jul'] / gastos_e_populacao_2020_Jul['populacao']\n",
        "gastos_e_populacao_2020_Jul.head()"
      ],
      "execution_count": null,
      "outputs": [
        {
          "output_type": "execute_result",
          "data": {
            "text/html": [
              "<div>\n",
              "<style scoped>\n",
              "    .dataframe tbody tr th:only-of-type {\n",
              "        vertical-align: middle;\n",
              "    }\n",
              "\n",
              "    .dataframe tbody tr th {\n",
              "        vertical-align: top;\n",
              "    }\n",
              "\n",
              "    .dataframe thead th {\n",
              "        text-align: right;\n",
              "    }\n",
              "</style>\n",
              "<table border=\"1\" class=\"dataframe\">\n",
              "  <thead>\n",
              "    <tr style=\"text-align: right;\">\n",
              "      <th></th>\n",
              "      <th>populacao</th>\n",
              "      <th>2020/Jul</th>\n",
              "      <th>gastos por habitante</th>\n",
              "    </tr>\n",
              "    <tr>\n",
              "      <th>uf</th>\n",
              "      <th></th>\n",
              "      <th></th>\n",
              "      <th></th>\n",
              "    </tr>\n",
              "  </thead>\n",
              "  <tbody>\n",
              "    <tr>\n",
              "      <th>São Paulo</th>\n",
              "      <td>46289333</td>\n",
              "      <td>2.827096e+08</td>\n",
              "      <td>6.107445</td>\n",
              "    </tr>\n",
              "    <tr>\n",
              "      <th>Minas Gerais</th>\n",
              "      <td>21292666</td>\n",
              "      <td>1.204672e+08</td>\n",
              "      <td>5.657685</td>\n",
              "    </tr>\n",
              "    <tr>\n",
              "      <th>Rio de Janeiro</th>\n",
              "      <td>17366189</td>\n",
              "      <td>7.154023e+07</td>\n",
              "      <td>4.119512</td>\n",
              "    </tr>\n",
              "    <tr>\n",
              "      <th>Bahia</th>\n",
              "      <td>14930634</td>\n",
              "      <td>5.889810e+07</td>\n",
              "      <td>3.944782</td>\n",
              "    </tr>\n",
              "    <tr>\n",
              "      <th>Paraná</th>\n",
              "      <td>11516840</td>\n",
              "      <td>8.032085e+07</td>\n",
              "      <td>6.974209</td>\n",
              "    </tr>\n",
              "  </tbody>\n",
              "</table>\n",
              "</div>"
            ],
            "text/plain": [
              "                populacao      2020/Jul  gastos por habitante\n",
              "uf                                                           \n",
              "São Paulo        46289333  2.827096e+08              6.107445\n",
              "Minas Gerais     21292666  1.204672e+08              5.657685\n",
              "Rio de Janeiro   17366189  7.154023e+07              4.119512\n",
              "Bahia            14930634  5.889810e+07              3.944782\n",
              "Paraná           11516840  8.032085e+07              6.974209"
            ]
          },
          "metadata": {
            "tags": []
          },
          "execution_count": 43
        }
      ]
    },
    {
      "cell_type": "markdown",
      "metadata": {
        "id": "7KNqyHjYMj2o"
      },
      "source": [
        "O melhor gráfico para visualizar esse tipo de informação é, naturalmente, o de barras:"
      ]
    },
    {
      "cell_type": "code",
      "metadata": {
        "colab": {
          "base_uri": "https://localhost:8080/",
          "height": 497
        },
        "id": "fO7L5uE_MsfI",
        "outputId": "67d50460-e58c-45a8-b46b-5c771c54d022"
      },
      "source": [
        "gastos_e_populacao_2020_Jul['gastos por habitante'].plot(kind='bar', figsize=(10,6))"
      ],
      "execution_count": null,
      "outputs": [
        {
          "output_type": "execute_result",
          "data": {
            "text/plain": [
              "<matplotlib.axes._subplots.AxesSubplot at 0x7f671bab20d0>"
            ]
          },
          "metadata": {
            "tags": []
          },
          "execution_count": 44
        },
        {
          "output_type": "display_data",
          "data": {
            "image/png": "[encoded data removed]",
            "text/plain": [
              "<Figure size 720x432 with 1 Axes>"
            ]
          },
          "metadata": {
            "tags": [],
            "needs_background": "light"
          }
        }
      ]
    },
    {
      "cell_type": "markdown",
      "metadata": {
        "id": "LQp7oj5iNDLw"
      },
      "source": [
        "Retomando o que fizemos nas aulas anteriores, veremos que a ordem dos estados neste gráfico é daqueles que mais gastaram no último mês, do maior para o menor gasto. Essa ordem é vantajosa se quisermos comparar dois estados com gastos próximos."
      ]
    },
    {
      "cell_type": "markdown",
      "metadata": {
        "id": "lgt9kuSrNvAQ"
      },
      "source": [
        "## Comparando relações entre 2 colunas com scatterplot\n",
        "\n",
        "Agora, queremos comparar as relações entre os gastos e populações em um gráfico scatterplot. Esse gráfico é muito vantajoso quando queremos analisar a relação matemática entre 2 variáveis. Para fazer esse gráfico, utilizaremos a biblioteca seaborn."
      ]
    },
    {
      "cell_type": "code",
      "metadata": {
        "colab": {
          "base_uri": "https://localhost:8080/",
          "height": 307
        },
        "id": "oLYpPG7TOkOs",
        "outputId": "15a26adb-9f64-49b4-fc59-e5ff6e5444cd"
      },
      "source": [
        "import seaborn as sns\n",
        "\n",
        "sns.scatterplot(data=gastos_e_populacao_2020_Jul, x='populacao', y='2020/Jul')"
      ],
      "execution_count": null,
      "outputs": [
        {
          "output_type": "execute_result",
          "data": {
            "text/plain": [
              "<matplotlib.axes._subplots.AxesSubplot at 0x7f671c264150>"
            ]
          },
          "metadata": {
            "tags": []
          },
          "execution_count": 45
        },
        {
          "output_type": "display_data",
          "data": {
            "image/png": "[encoded data removed]",
            "text/plain": [
              "<Figure size 432x288 with 1 Axes>"
            ]
          },
          "metadata": {
            "tags": [],
            "needs_background": "light"
          }
        }
      ]
    },
    {
      "cell_type": "markdown",
      "metadata": {
        "id": "XrJOwD0FO-dh"
      },
      "source": [
        "Logo podemos visualizar a relação direta entre as duas variáveis, que já sabíamos: quanto maior a população, maiores serão os gastos. Para melhorar a visualização, vamos aumentar o tamanho do gráfico e alterar a dimensão das escalas, para milhões de habitantes e milhões de reais."
      ]
    },
    {
      "cell_type": "code",
      "metadata": {
        "colab": {
          "base_uri": "https://localhost:8080/",
          "height": 459
        },
        "id": "5Namtpe8Pmno",
        "outputId": "77e2c471-b848-4254-d753-039f657375de"
      },
      "source": [
        "import matplotlib.pyplot as plt\n",
        "\n",
        "plt.figure(figsize=(7,7))\n",
        "sns.scatterplot(data=gastos_e_populacao_2020_Jul/1000000, x='populacao', y='2020/Jul')"
      ],
      "execution_count": null,
      "outputs": [
        {
          "output_type": "execute_result",
          "data": {
            "text/plain": [
              "<matplotlib.axes._subplots.AxesSubplot at 0x7f671ba1f250>"
            ]
          },
          "metadata": {
            "tags": []
          },
          "execution_count": 46
        },
        {
          "output_type": "display_data",
          "data": {
            "image/png": "[encoded data removed]",
            "text/plain": [
              "<Figure size 504x504 with 1 Axes>"
            ]
          },
          "metadata": {
            "tags": [],
            "needs_background": "light"
          }
        }
      ]
    },
    {
      "cell_type": "markdown",
      "metadata": {
        "id": "0TwuaNxPRTzJ"
      },
      "source": [
        "Vendo o gráfico sem ler as escalas, a impressão é de que a relação é de 1 pra 1, ou seja, para cada habitante há um gasto de um real, mas isso não é verdade. Uma melhor visualização pode ser feita se igualarmos as escalas nos dois eixos. Poderemos ver que a variação de gastos é bem mais sensível à população."
      ]
    },
    {
      "cell_type": "code",
      "metadata": {
        "colab": {
          "base_uri": "https://localhost:8080/",
          "height": 459
        },
        "id": "zeYlzCVjRr05",
        "outputId": "7520b70e-f686-44f3-ec6d-9073d333f611"
      },
      "source": [
        "import matplotlib.pyplot as plt\n",
        "\n",
        "plt.figure(figsize=(7,7))\n",
        "plt.ylim(0,290)\n",
        "plt.xlim(0,290)\n",
        "sns.scatterplot(data=gastos_e_populacao_2020_Jul/1000000, x='populacao', y='2020/Jul')"
      ],
      "execution_count": null,
      "outputs": [
        {
          "output_type": "execute_result",
          "data": {
            "text/plain": [
              "<matplotlib.axes._subplots.AxesSubplot at 0x7f671b92ce50>"
            ]
          },
          "metadata": {
            "tags": []
          },
          "execution_count": 47
        },
        {
          "output_type": "display_data",
          "data": {
            "image/png": "[encoded data removed]",
            "text/plain": [
              "<Figure size 504x504 with 1 Axes>"
            ]
          },
          "metadata": {
            "tags": [],
            "needs_background": "light"
          }
        }
      ]
    },
    {
      "cell_type": "markdown",
      "metadata": {
        "id": "C51tkzPESIAY"
      },
      "source": [
        "Agora, vamos considerar a relação entre gastos por população e a quantidade de habitantes:"
      ]
    },
    {
      "cell_type": "code",
      "metadata": {
        "colab": {
          "base_uri": "https://localhost:8080/",
          "height": 459
        },
        "id": "S6n5_6YCSrC8",
        "outputId": "159dc3cb-bc92-42e4-fa70-4e832de141b5"
      },
      "source": [
        "plt.figure(figsize=(7,7))\n",
        "sns.scatterplot(data=gastos_e_populacao_2020_Jul, x='populacao', y='gastos por habitante')"
      ],
      "execution_count": null,
      "outputs": [
        {
          "output_type": "execute_result",
          "data": {
            "text/plain": [
              "<matplotlib.axes._subplots.AxesSubplot at 0x7f671b975490>"
            ]
          },
          "metadata": {
            "tags": []
          },
          "execution_count": 48
        },
        {
          "output_type": "display_data",
          "data": {
            "image/png": "[encoded data removed]",
            "text/plain": [
              "<Figure size 504x504 with 1 Axes>"
            ]
          },
          "metadata": {
            "tags": [],
            "needs_background": "light"
          }
        }
      ]
    },
    {
      "cell_type": "markdown",
      "metadata": {
        "id": "t5dhy0HtTHDW"
      },
      "source": [
        "Aqui não parece haver nenhuma relação evidente, mas esse gráfico nos diz uma coisa: parece que quando o estado é bastante populoso, a tendência é ele **não** ter uma razão de gastos por habitante baixa."
      ]
    },
    {
      "cell_type": "markdown",
      "metadata": {
        "id": "RPFBFEj7TtSH"
      },
      "source": [
        "## Analisando gastos de meses anteriores\n",
        "\n",
        "Todos os gráficos feitos neste notebook dizem respeito ao mês de Julho de 2020. Desejamos fazer essa mesma análise para meses anteriores e compará-los.\n",
        "\n",
        "Para isso, vamos definir a função `gastos_e_gastos_por_habitante()`, que recebe as variáveis `gastos`, que deve fornecer os gastos para todos os meses, `dados`, que deverá conter a informação dos habitantes de cada estado, e `mês`, que é o mês ao qual queremos extrair as informações.\n",
        "\n",
        "A função extrai do dataframe os gastos do mês que queremos e adiciona ao dataframe `gastos_e_populacao`, que criaremos para executar a função. Além dos gastos, será adicionada mais uma coluna, dos gastos por habitantes do respectivo mês."
      ]
    },
    {
      "cell_type": "code",
      "metadata": {
        "id": "M6NAugxfWcKr"
      },
      "source": [
        "def insere_gastos_e_gastos_por_habitante(dados:pd.DataFrame, gastos:pd.DataFrame, mes:str):\n",
        "  dados[f'gastos {mes}'] = gastos[mes]\n",
        "  dados[f'gastos por habitante {mes}'] = gastos[mes] / dados['populacao']\n",
        "  return dados"
      ],
      "execution_count": null,
      "outputs": []
    },
    {
      "cell_type": "markdown",
      "metadata": {
        "id": "iF6wQqwjcNGU"
      },
      "source": [
        "Vamos testar primeiramente a função para o mês atual, de Julho de 2020."
      ]
    },
    {
      "cell_type": "code",
      "metadata": {
        "colab": {
          "base_uri": "https://localhost:8080/",
          "height": 234
        },
        "id": "ADE6lW7rcWWb",
        "outputId": "41bc0271-7cc0-4790-c71b-e3d2f4595063"
      },
      "source": [
        "gastos_e_populacao = populacao\n",
        "insere_gastos_e_gastos_por_habitante(gastos_e_populacao, ordenado_por_total, '2020/Jul')\n",
        "gastos_e_populacao.head()"
      ],
      "execution_count": null,
      "outputs": [
        {
          "output_type": "execute_result",
          "data": {
            "text/html": [
              "<div>\n",
              "<style scoped>\n",
              "    .dataframe tbody tr th:only-of-type {\n",
              "        vertical-align: middle;\n",
              "    }\n",
              "\n",
              "    .dataframe tbody tr th {\n",
              "        vertical-align: top;\n",
              "    }\n",
              "\n",
              "    .dataframe thead th {\n",
              "        text-align: right;\n",
              "    }\n",
              "</style>\n",
              "<table border=\"1\" class=\"dataframe\">\n",
              "  <thead>\n",
              "    <tr style=\"text-align: right;\">\n",
              "      <th></th>\n",
              "      <th>populacao</th>\n",
              "      <th>gastos 2020/Jul</th>\n",
              "      <th>gastos por habitante 2020/Jul</th>\n",
              "    </tr>\n",
              "    <tr>\n",
              "      <th>uf</th>\n",
              "      <th></th>\n",
              "      <th></th>\n",
              "      <th></th>\n",
              "    </tr>\n",
              "  </thead>\n",
              "  <tbody>\n",
              "    <tr>\n",
              "      <th>São Paulo</th>\n",
              "      <td>46289333</td>\n",
              "      <td>2.827096e+08</td>\n",
              "      <td>6.107445</td>\n",
              "    </tr>\n",
              "    <tr>\n",
              "      <th>Minas Gerais</th>\n",
              "      <td>21292666</td>\n",
              "      <td>1.204672e+08</td>\n",
              "      <td>5.657685</td>\n",
              "    </tr>\n",
              "    <tr>\n",
              "      <th>Rio de Janeiro</th>\n",
              "      <td>17366189</td>\n",
              "      <td>7.154023e+07</td>\n",
              "      <td>4.119512</td>\n",
              "    </tr>\n",
              "    <tr>\n",
              "      <th>Bahia</th>\n",
              "      <td>14930634</td>\n",
              "      <td>5.889810e+07</td>\n",
              "      <td>3.944782</td>\n",
              "    </tr>\n",
              "    <tr>\n",
              "      <th>Paraná</th>\n",
              "      <td>11516840</td>\n",
              "      <td>8.032085e+07</td>\n",
              "      <td>6.974209</td>\n",
              "    </tr>\n",
              "  </tbody>\n",
              "</table>\n",
              "</div>"
            ],
            "text/plain": [
              "                populacao  gastos 2020/Jul  gastos por habitante 2020/Jul\n",
              "uf                                                                       \n",
              "São Paulo        46289333     2.827096e+08                       6.107445\n",
              "Minas Gerais     21292666     1.204672e+08                       5.657685\n",
              "Rio de Janeiro   17366189     7.154023e+07                       4.119512\n",
              "Bahia            14930634     5.889810e+07                       3.944782\n",
              "Paraná           11516840     8.032085e+07                       6.974209"
            ]
          },
          "metadata": {
            "tags": []
          },
          "execution_count": 50
        }
      ]
    },
    {
      "cell_type": "markdown",
      "metadata": {
        "id": "cgjTISe-eyF8"
      },
      "source": [
        "Agora, adicionando o mês de Junho:"
      ]
    },
    {
      "cell_type": "code",
      "metadata": {
        "colab": {
          "base_uri": "https://localhost:8080/",
          "height": 234
        },
        "id": "Bx5v91vAexa_",
        "outputId": "2cb0a7a9-1a79-456d-9673-9982f63c3a35"
      },
      "source": [
        "insere_gastos_e_gastos_por_habitante(gastos_e_populacao, ordenado_por_total, '2020/Jun')\n",
        "gastos_e_populacao.head()"
      ],
      "execution_count": null,
      "outputs": [
        {
          "output_type": "execute_result",
          "data": {
            "text/html": [
              "<div>\n",
              "<style scoped>\n",
              "    .dataframe tbody tr th:only-of-type {\n",
              "        vertical-align: middle;\n",
              "    }\n",
              "\n",
              "    .dataframe tbody tr th {\n",
              "        vertical-align: top;\n",
              "    }\n",
              "\n",
              "    .dataframe thead th {\n",
              "        text-align: right;\n",
              "    }\n",
              "</style>\n",
              "<table border=\"1\" class=\"dataframe\">\n",
              "  <thead>\n",
              "    <tr style=\"text-align: right;\">\n",
              "      <th></th>\n",
              "      <th>populacao</th>\n",
              "      <th>gastos 2020/Jul</th>\n",
              "      <th>gastos por habitante 2020/Jul</th>\n",
              "      <th>gastos 2020/Jun</th>\n",
              "      <th>gastos por habitante 2020/Jun</th>\n",
              "    </tr>\n",
              "    <tr>\n",
              "      <th>uf</th>\n",
              "      <th></th>\n",
              "      <th></th>\n",
              "      <th></th>\n",
              "      <th></th>\n",
              "      <th></th>\n",
              "    </tr>\n",
              "  </thead>\n",
              "  <tbody>\n",
              "    <tr>\n",
              "      <th>São Paulo</th>\n",
              "      <td>46289333</td>\n",
              "      <td>2.827096e+08</td>\n",
              "      <td>6.107445</td>\n",
              "      <td>2.990609e+08</td>\n",
              "      <td>6.460686</td>\n",
              "    </tr>\n",
              "    <tr>\n",
              "      <th>Minas Gerais</th>\n",
              "      <td>21292666</td>\n",
              "      <td>1.204672e+08</td>\n",
              "      <td>5.657685</td>\n",
              "      <td>1.359776e+08</td>\n",
              "      <td>6.386122</td>\n",
              "    </tr>\n",
              "    <tr>\n",
              "      <th>Rio de Janeiro</th>\n",
              "      <td>17366189</td>\n",
              "      <td>7.154023e+07</td>\n",
              "      <td>4.119512</td>\n",
              "      <td>7.760493e+07</td>\n",
              "      <td>4.468737</td>\n",
              "    </tr>\n",
              "    <tr>\n",
              "      <th>Bahia</th>\n",
              "      <td>14930634</td>\n",
              "      <td>5.889810e+07</td>\n",
              "      <td>3.944782</td>\n",
              "      <td>6.515930e+07</td>\n",
              "      <td>4.364135</td>\n",
              "    </tr>\n",
              "    <tr>\n",
              "      <th>Paraná</th>\n",
              "      <td>11516840</td>\n",
              "      <td>8.032085e+07</td>\n",
              "      <td>6.974209</td>\n",
              "      <td>9.290146e+07</td>\n",
              "      <td>8.066576</td>\n",
              "    </tr>\n",
              "  </tbody>\n",
              "</table>\n",
              "</div>"
            ],
            "text/plain": [
              "                populacao  ...  gastos por habitante 2020/Jun\n",
              "uf                         ...                               \n",
              "São Paulo        46289333  ...                       6.460686\n",
              "Minas Gerais     21292666  ...                       6.386122\n",
              "Rio de Janeiro   17366189  ...                       4.468737\n",
              "Bahia            14930634  ...                       4.364135\n",
              "Paraná           11516840  ...                       8.066576\n",
              "\n",
              "[5 rows x 5 columns]"
            ]
          },
          "metadata": {
            "tags": []
          },
          "execution_count": 51
        }
      ]
    },
    {
      "cell_type": "markdown",
      "metadata": {
        "id": "uXxdHjjVgHPk"
      },
      "source": [
        "Agora podemos plotar os mesmos gráficos, mas comparando os meses de Junho e de Julho."
      ]
    },
    {
      "cell_type": "code",
      "metadata": {
        "colab": {
          "base_uri": "https://localhost:8080/",
          "height": 459
        },
        "id": "NQsXQnxFgO6-",
        "outputId": "d0f2996e-0baf-4b5a-cb3e-a79c3cc94158"
      },
      "source": [
        "plt.figure(figsize=(7,7))\n",
        "sns.scatterplot(data=gastos_e_populacao/1000000, x='populacao', y='gastos 2020/Jul', label='Julho')\n",
        "sns.scatterplot(data=gastos_e_populacao/1000000, x='populacao', y='gastos 2020/Jun', label='Junho')\n",
        "plt.legend()"
      ],
      "execution_count": null,
      "outputs": [
        {
          "output_type": "execute_result",
          "data": {
            "text/plain": [
              "<matplotlib.legend.Legend at 0x7f671b932590>"
            ]
          },
          "metadata": {
            "tags": []
          },
          "execution_count": 52
        },
        {
          "output_type": "display_data",
          "data": {
            "image/png": "[encoded data removed]",
            "text/plain": [
              "<Figure size 504x504 with 1 Axes>"
            ]
          },
          "metadata": {
            "tags": [],
            "needs_background": "light"
          }
        }
      ]
    },
    {
      "cell_type": "markdown",
      "metadata": {
        "id": "ikziE27-Qsz_"
      },
      "source": [
        "Parece que, em todos os estados, os gastos de Junho para Julho diminuiram. Isso pode ter acontecido porque estão faltando mais dados de Julho serem processados. Vamos continuar nossa análise e incluir o mês de Maio:"
      ]
    },
    {
      "cell_type": "code",
      "metadata": {
        "colab": {
          "base_uri": "https://localhost:8080/",
          "height": 459
        },
        "id": "cggmMNrHdNlF",
        "outputId": "76d02a4a-1d9d-4d08-9fca-f416d2e17b9e"
      },
      "source": [
        "insere_gastos_e_gastos_por_habitante(gastos_e_populacao, ordenado_por_total, '2020/Mai')\n",
        "\n",
        "plt.figure(figsize=(7,7))\n",
        "sns.scatterplot(data=gastos_e_populacao/1000000, x='populacao', y='gastos 2020/Jul', label='Julho')\n",
        "sns.scatterplot(data=gastos_e_populacao/1000000, x='populacao', y='gastos 2020/Jun', label='Junho')\n",
        "sns.scatterplot(data=gastos_e_populacao/1000000, x='populacao', y='gastos 2020/Mai', label='Mai')\n",
        "plt.legend()"
      ],
      "execution_count": null,
      "outputs": [
        {
          "output_type": "execute_result",
          "data": {
            "text/plain": [
              "<matplotlib.legend.Legend at 0x7f671b814450>"
            ]
          },
          "metadata": {
            "tags": []
          },
          "execution_count": 53
        },
        {
          "output_type": "display_data",
          "data": {
            "image/png": "[encoded data removed]",
            "text/plain": [
              "<Figure size 504x504 with 1 Axes>"
            ]
          },
          "metadata": {
            "tags": [],
            "needs_background": "light"
          }
        }
      ]
    },
    {
      "cell_type": "markdown",
      "metadata": {
        "id": "Xp3MycxleAPR"
      },
      "source": [
        "Parece haver essa tendência de decrescimento nos gastos para os últimos meses. Mas para visualizar melhor esse decrescimento seria melhor o gráfico de linhas, não o gráfico scatterplot."
      ]
    },
    {
      "cell_type": "markdown",
      "metadata": {
        "id": "SCX_yXkAe5xb"
      },
      "source": [
        "## Desafios:\n",
        "\n",
        "### Desafio 01: Ordenar o gráfico e criar uma visualização de gastos por habitantes ordenada.\n",
        "\n",
        "### Desafio 02 (Super Desafio Gui): Fazer os mesmos gráficos do final da aulas 2.1 para meses anteriores, analisar e compartilhar suas hipóteses.\n",
        "\n",
        "### Desafio 03 (Super Desafio Thiago): Plotar no mesmos gráficos do final da aula o mês anterior e o mês correte, analisar e compartilhar suas hipóteses.\n",
        "\n",
        "### Desafio 04: Analise os gráficos e tente chegar a hipóteses que explicam o que você está entendendo dos dados. Lembre-se que a conclusão é uma hipótese. E que esses dados serão alterados."
      ]
    },
    {
      "cell_type": "markdown",
      "metadata": {
        "id": "hPFdGbxcfjht"
      },
      "source": [
        "### Desafio 01: Ordenar o gráfico e criar uma visualização de gastos por habitantes ordenada.\n",
        "\n",
        "Primeiramente vamos fazer uma mudança na coloração das barras, indicando a ordenação dos estados entre os que tiveram os maiores gastos no total."
      ]
    },
    {
      "cell_type": "code",
      "metadata": {
        "colab": {
          "base_uri": "https://localhost:8080/",
          "height": 547
        },
        "id": "9_HcW70DfnZL",
        "outputId": "c63170aa-d074-47da-a1ac-23f523bb63da"
      },
      "source": [
        "import seaborn as sns\n",
        "\n",
        "plt.figure(figsize=(8,8))\n",
        "sns.set_palette('summer', n_colors=27)\n",
        "sns.barplot(y=gastos_e_populacao_2020_Jul.index, x=gastos_e_populacao_2020_Jul['gastos por habitante'], orient='h')\n",
        "\n",
        "plt.ylabel('')\n",
        "plt.xlabel('reais por habitante')\n",
        "plt.title('gastos em internações pelo SUS no mês de Julho/2020\\nproporcional à população'.upper(), size=20)\n",
        "plt.show()\n",
        "\n",
        "# gastos_e_populacao_2020_Jul['gastos por habitante'].plot(kind='barh', figsize=(6,8), colarmap='summer')"
      ],
      "execution_count": null,
      "outputs": [
        {
          "output_type": "display_data",
          "data": {
            "image/png": "[encoded data removed]",
            "text/plain": [
              "<Figure size 576x576 with 1 Axes>"
            ]
          },
          "metadata": {
            "tags": [],
            "needs_background": "light"
          }
        }
      ]
    },
    {
      "cell_type": "markdown",
      "metadata": {
        "id": "-KEz464qAqag"
      },
      "source": [
        "o segundo gráfico agora está com a ordenação de gastos por habitante do mês de Julho, e não os gastos totais."
      ]
    },
    {
      "cell_type": "code",
      "metadata": {
        "colab": {
          "base_uri": "https://localhost:8080/",
          "height": 547
        },
        "id": "AXetig4WAZEW",
        "outputId": "84686e6d-ff4c-4bff-a52e-e4d0223e10a1"
      },
      "source": [
        "plt.figure(figsize=(8,8))\n",
        "sns.set_palette('summer_r', n_colors=27)\n",
        "gastos_por_habitante_2020_Jul_ordenado = gastos_e_populacao_2020_Jul.sort_values('gastos por habitante', ascending=False)\n",
        "sns.barplot(y=gastos_por_habitante_2020_Jul_ordenado.index, x=gastos_por_habitante_2020_Jul_ordenado['gastos por habitante'], orient='h')\n",
        "\n",
        "plt.ylabel('')\n",
        "plt.xlabel('reais por habitante')\n",
        "plt.title('gastos em internações pelo SUS no mês de Julho/2020\\nproporcional à população'.upper(), size=20)\n",
        "plt.show()"
      ],
      "execution_count": null,
      "outputs": [
        {
          "output_type": "display_data",
          "data": {
            "image/png": "[encoded data removed]",
            "text/plain": [
              "<Figure size 576x576 with 1 Axes>"
            ]
          },
          "metadata": {
            "tags": [],
            "needs_background": "light"
          }
        }
      ]
    },
    {
      "cell_type": "markdown",
      "metadata": {
        "id": "3MNmhdNoCO3I"
      },
      "source": [
        "### Desafio 02 (Super Desafio Gui): Fazer os mesmos gráficos do final da aulas 2.1 para meses anteriores, analisar e compartilhar suas hipóteses.\n",
        "\n",
        "### Desafio 03 (Super Desafio Thiago): Plotar no mesmos gráficos do final da aula o mês anterior e o mês correte, analisar e compartilhar suas hipóteses.\n",
        "\n",
        "Esses desafios já foram respondidos mais acima no notebook"
      ]
    },
    {
      "cell_type": "code",
      "metadata": {
        "id": "ERCecLHSBnFO"
      },
      "source": [
        ""
      ],
      "execution_count": null,
      "outputs": []
    }
  ]
}